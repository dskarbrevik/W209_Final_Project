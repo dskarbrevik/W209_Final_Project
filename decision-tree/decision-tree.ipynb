{
 "cells": [
  {
   "cell_type": "markdown",
   "metadata": {},
   "source": [
    "# <center>Decision Tree Tutorial Using The Iris Data Set</center>"
   ]
  },
  {
   "cell_type": "markdown",
   "metadata": {},
   "source": [
    "References: \n",
    "* http://scikit-learn.org/stable/auto_examples/tree/plot_iris.html#sphx-glr-auto-examples-tree-plot-iris-py\n",
    "* http://scikit-learn.org/stable/modules/tree.html\n",
    "* http://matplotlib.org/api/pyplot_api.html#matplotlib.pyplot.contourf"
   ]
  },
  {
   "cell_type": "code",
   "execution_count": 1,
   "metadata": {
    "collapsed": true
   },
   "outputs": [],
   "source": [
    "# Import bokeh packages\n",
    "from bokeh.layouts import column\n",
    "from bokeh.models import CategoricalColorMapper, ColumnDataSource, CustomJS, FixedTicker, Legend, Range, Range1d, Slider\n",
    "from bokeh.palettes import Category20\n",
    "from bokeh.plotting import figure, output_file, save, show\n",
    "\n",
    "# Import python packages\n",
    "from IPython.display import Image\n",
    "import graphviz\n",
    "import numpy as np\n",
    "import pydotplus \n",
    "from sklearn import tree\n",
    "from sklearn.datasets import load_iris"
   ]
  },
  {
   "cell_type": "code",
   "execution_count": 2,
   "metadata": {
    "collapsed": false
   },
   "outputs": [],
   "source": [
    "# Load iris data\n",
    "iris = load_iris()\n",
    "trainingData = iris.data\n",
    "featureNames = iris.feature_names\n",
    "trainingLabels = iris.target\n",
    "labelNames = iris.target_names\n",
    "\n",
    "# Bucket the training data points by training label (i.e. setosa, versicolor or virginica)\n",
    "# This will make it easier to generate a legend for the plot\n",
    "label_0 = []\n",
    "label_1 = []\n",
    "label_2 = []\n",
    "for i in range(len(trainingLabels)):\n",
    "    if trainingLabels[i] == 0:\n",
    "        label_0.append(i)\n",
    "    elif trainingLabels[i] == 1:\n",
    "        label_1.append(i)\n",
    "    else:\n",
    "        label_2.append(i)"
   ]
  },
  {
   "cell_type": "code",
   "execution_count": 3,
   "metadata": {
    "collapsed": false
   },
   "outputs": [],
   "source": [
    "# Define color palettes for plots (light for decision surfaces, dark for data points)\n",
    "light_palette = [Category20[6][2*i + 1] for i in range(3)]\n",
    "dark_palette = [Category20[6][2*i] for i in range(3)]\n",
    "\n",
    "# Determine the limits of the decision boundary plots\n",
    "boundary_x_min = min([dataPoint[0] for dataPoint in trainingData]) - 1\n",
    "boundary_x_max = max([dataPoint[0] for dataPoint in trainingData]) + 1\n",
    "boundary_x_range = Range1d(boundary_x_min, boundary_x_max, bounds = (boundary_x_min, boundary_x_max))\n",
    "\n",
    "boundary_y_min = min([dataPoint[1] for dataPoint in trainingData]) - 1\n",
    "boundary_y_max = max([dataPoint[1] for dataPoint in trainingData]) + 1\n",
    "boundary_y_range = Range1d(boundary_y_min, boundary_y_max, bounds = (boundary_y_min, boundary_y_max))\n",
    "\n",
    "accuracies = [0 for i in range(12)]"
   ]
  },
  {
   "cell_type": "code",
   "execution_count": 4,
   "metadata": {
    "collapsed": false
   },
   "outputs": [
    {
     "data": {
      "text/plain": [
       "'/Users/bradleyputman/Documents/Academic/UC Berkeley/W209-Data Visualization and Communication/Final-Project/decision-tree/decision-boundary-depth-0.html'"
      ]
     },
     "execution_count": 4,
     "metadata": {},
     "output_type": "execute_result"
    }
   ],
   "source": [
    "# Plot the untrained data set\n",
    "output_file(\"decision-boundary-depth-0.html\")\n",
    "\n",
    "# Create bokeh figure\n",
    "bokeh_plot = figure(plot_width=500,\n",
    "                    plot_height=500,\n",
    "                    x_range = boundary_x_range,\n",
    "                    y_range = boundary_y_range,\n",
    "                    )\n",
    "\n",
    "# Plot data points in the label_0 bucket\n",
    "bokeh_plot.circle([trainingData[i][0] for i in label_0], \n",
    "                  [trainingData[i][1] for i in label_0],\n",
    "                  size = 4,\n",
    "                  fill_color = dark_palette[0],\n",
    "                  line_color = dark_palette[0],\n",
    "                  legend = labelNames[0]\n",
    "                 )\n",
    "\n",
    "# Plot data points in the label_1 bucket\n",
    "bokeh_plot.circle([trainingData[i][0] for i in label_1], \n",
    "                  [trainingData[i][1] for i in label_1],\n",
    "                  size = 4,\n",
    "                  fill_color = dark_palette[1],\n",
    "                  line_color = dark_palette[1],\n",
    "                  legend = labelNames[1]\n",
    "                 )\n",
    "\n",
    "# Plot data points in the label_2 bucket\n",
    "bokeh_plot.circle([trainingData[i][0] for i in label_2], \n",
    "                  [trainingData[i][1] for i in label_2],\n",
    "                  size = 4,\n",
    "                  fill_color = dark_palette[2],\n",
    "                  line_color = dark_palette[2],\n",
    "                  legend = labelNames[2]\n",
    "                 )\n",
    "\n",
    "# Label axes, place legend\n",
    "bokeh_plot.xaxis.axis_label = featureNames[0]\n",
    "bokeh_plot.yaxis.axis_label = featureNames[1]\n",
    "bokeh_plot.legend.location = \"bottom_left\"\n",
    "\n",
    "# Show the resulting bokeh plot (this will save the html file and open it automatically)\n",
    "# Alternatively, you could replace \"show\" with \"save\", which will save the file without opening it\n",
    "save(bokeh_plot)"
   ]
  },
  {
   "cell_type": "code",
   "execution_count": null,
   "metadata": {
    "collapsed": false
   },
   "outputs": [
    {
     "name": "stderr",
     "output_type": "stream",
     "text": [
      "INFO:bokeh.core.state:Session output file 'decision-boundary-depth-1.html' already exists, will be overwritten.\n",
      "INFO:bokeh.core.state:Session output file 'decision-boundary-depth-2.html' already exists, will be overwritten.\n",
      "INFO:bokeh.core.state:Session output file 'decision-boundary-depth-3.html' already exists, will be overwritten.\n",
      "INFO:bokeh.core.state:Session output file 'decision-boundary-depth-4.html' already exists, will be overwritten.\n",
      "INFO:bokeh.core.state:Session output file 'decision-boundary-depth-5.html' already exists, will be overwritten.\n",
      "INFO:bokeh.core.state:Session output file 'decision-boundary-depth-6.html' already exists, will be overwritten.\n",
      "INFO:bokeh.core.state:Session output file 'decision-boundary-depth-7.html' already exists, will be overwritten.\n",
      "INFO:bokeh.core.state:Session output file 'decision-boundary-depth-8.html' already exists, will be overwritten.\n",
      "INFO:bokeh.core.state:Session output file 'decision-boundary-depth-9.html' already exists, will be overwritten.\n",
      "INFO:bokeh.core.state:Session output file 'decision-boundary-depth-10.html' already exists, will be overwritten.\n",
      "INFO:bokeh.core.state:Session output file 'decision-boundary-depth-11.html' already exists, will be overwritten.\n",
      "INFO:bokeh.core.state:Session output file 'decision-boundary-depth-12.html' already exists, will be overwritten.\n"
     ]
    }
   ],
   "source": [
    "# Plot decision boundaries for trees of max depths from 1 to 10\n",
    "for i in range(1, 13):\n",
    "    \n",
    "    # Specify output html file \n",
    "    output_file(\"decision-boundary-depth-%d.html\" %i)\n",
    "\n",
    "    # Train a model on the first two features\n",
    "    model = tree.DecisionTreeClassifier(max_depth = i)\n",
    "    X = [ [ dataPoint[0], dataPoint[1] ] for dataPoint in trainingData]\n",
    "    y = trainingLabels\n",
    "    model.fit(X, y)\n",
    "\n",
    "    # Record model accuracy\n",
    "    accuracies[i-1] = model.score(X, y)\n",
    "\n",
    "    # Create a mesh grid based on the plot limits, then classify the mesh using the trained model\n",
    "    xx, yy = np.meshgrid(np.arange(boundary_x_min, boundary_x_max, 0.2), \n",
    "                         np.arange(boundary_y_min, boundary_y_max, 0.1))\n",
    "    z = model.predict(np.c_[xx.ravel(), yy.ravel()])\n",
    "    zz = z.reshape(xx.shape)\n",
    "\n",
    "    # Create bokeh figure\n",
    "    bokeh_plot = figure(plot_width=500,\n",
    "                        plot_height=500,\n",
    "                        x_range = boundary_x_range,\n",
    "                        y_range = boundary_y_range\n",
    "                        )\n",
    "\n",
    "    # Plot the mesh grid on the bokeh figure as an image\n",
    "    # Note: \"Z\" here is the mesh grid predictions, and it must be contained in a list (i.e. \"[Z]\" not \"Z\")\n",
    "    bokeh_plot.image(image=[zz],\n",
    "                     alpha = 0,\n",
    "                     x = boundary_x_min,           \n",
    "                     y = boundary_y_min,\n",
    "                     dw =(boundary_x_max - boundary_x_min),\n",
    "                     dh =(boundary_y_max - boundary_y_min),\n",
    "                     palette = light_palette\n",
    "                    )\n",
    "\n",
    "    # Plot data points in the label_0 bucket\n",
    "    bokeh_plot.circle([trainingData[i][0] for i in label_0], \n",
    "                      [trainingData[i][1] for i in label_0],\n",
    "                      size = 4,\n",
    "                      fill_color = dark_palette[0],\n",
    "                      line_color = dark_palette[0],\n",
    "                      legend = labelNames[0]\n",
    "                     )\n",
    "\n",
    "    # Plot data points in the label_1 bucket\n",
    "    bokeh_plot.circle([trainingData[i][0] for i in label_1], \n",
    "                      [trainingData[i][1] for i in label_1],\n",
    "                      size = 4,\n",
    "                      fill_color = dark_palette[1],\n",
    "                      line_color = dark_palette[1],\n",
    "                      legend = labelNames[1]\n",
    "                     )\n",
    "\n",
    "    # Plot data points in the label_2 bucket\n",
    "    bokeh_plot.circle([trainingData[i][0] for i in label_2], \n",
    "                      [trainingData[i][1] for i in label_2],\n",
    "                      size = 4,\n",
    "                      fill_color = dark_palette[2],\n",
    "                      line_color = dark_palette[2],\n",
    "                      legend = labelNames[2]\n",
    "                     )\n",
    "\n",
    "    # Label axes, place legend\n",
    "    bokeh_plot.xaxis.axis_label = featureNames[0]\n",
    "    bokeh_plot.yaxis.axis_label = featureNames[1]\n",
    "    bokeh_plot.legend.location = \"bottom_left\"\n",
    "\n",
    "    # Show the resulting bokeh plot (this will save the html file and open it automatically)\n",
    "    # Alternatively, you could replace \"show\" with \"save\", which will save the file without opening it\n",
    "    save(bokeh_plot)"
   ]
  },
  {
   "cell_type": "code",
   "execution_count": null,
   "metadata": {
    "collapsed": false
   },
   "outputs": [
    {
     "name": "stderr",
     "output_type": "stream",
     "text": [
      "INFO:bokeh.core.state:Session output file 'decision-boundary-converged.html' already exists, will be overwritten.\n"
     ]
    }
   ],
   "source": [
    "# Plot the decision boundary for a fully-counverged tree\n",
    "\n",
    "# Specify output html file \n",
    "output_file(\"decision-boundary-converged.html\")\n",
    "\n",
    "# Train a model on the first two features\n",
    "model = tree.DecisionTreeClassifier()\n",
    "X = [ [ dataPoint[0], dataPoint[1] ] for dataPoint in trainingData]\n",
    "y = trainingLabels\n",
    "model.fit(X, y)\n",
    "\n",
    "\n",
    "\n",
    "# Create a mesh grid based on the plot limits, then classify the mesh using the trained model\n",
    "xx, yy = np.meshgrid(np.arange(boundary_x_min, boundary_x_max, 0.2), \n",
    "                     np.arange(boundary_y_min, boundary_y_max, 0.1))\n",
    "z = model.predict(np.c_[xx.ravel(), yy.ravel()])\n",
    "zz = z.reshape(xx.shape)\n",
    "\n",
    "# Create bokeh figure\n",
    "bokeh_plot = figure(plot_width=500,\n",
    "                    plot_height=500,\n",
    "                    x_range = boundary_x_range,\n",
    "                    y_range = boundary_y_range\n",
    "                    )\n",
    "\n",
    "# Plot the mesh grid on the bokeh figure as an image\n",
    "# Note: \"Z\" here is the mesh grid predictions, and it must be contained in a list (i.e. \"[Z]\" not \"Z\")\n",
    "bokeh_plot.image(image=[zz],\n",
    "                 alpha = 0,\n",
    "                 x = boundary_x_min,           \n",
    "                 y = boundary_y_min,\n",
    "                 dw =(boundary_x_max - boundary_x_min),\n",
    "                 dh =(boundary_y_max - boundary_y_min),\n",
    "                 palette = light_palette\n",
    "                )\n",
    "\n",
    "# Plot data points in the label_0 bucket\n",
    "bokeh_plot.circle([trainingData[i][0] for i in label_0], \n",
    "                  [trainingData[i][1] for i in label_0],\n",
    "                  size = 4,\n",
    "                  fill_color = dark_palette[0],\n",
    "                  line_color = dark_palette[0],\n",
    "                  legend = labelNames[0]\n",
    "                 )\n",
    "\n",
    "# Plot data points in the label_1 bucket\n",
    "bokeh_plot.circle([trainingData[i][0] for i in label_1], \n",
    "                  [trainingData[i][1] for i in label_1],\n",
    "                  size = 4,\n",
    "                  fill_color = dark_palette[1],\n",
    "                  line_color = dark_palette[1],\n",
    "                  legend = labelNames[1]\n",
    "                 )\n",
    "\n",
    "# Plot data points in the label_2 bucket\n",
    "bokeh_plot.circle([trainingData[i][0] for i in label_2], \n",
    "                  [trainingData[i][1] for i in label_2],\n",
    "                  size = 4,\n",
    "                  fill_color = dark_palette[2],\n",
    "                  line_color = dark_palette[2],\n",
    "                  legend = labelNames[2]\n",
    "                 )\n",
    "\n",
    "# Label axes, place legend\n",
    "bokeh_plot.xaxis.axis_label = featureNames[0]\n",
    "bokeh_plot.yaxis.axis_label = featureNames[1]\n",
    "bokeh_plot.legend.location = \"bottom_left\"\n",
    "\n",
    "# Show the resulting bokeh plot (this will save the html file and open it automatically)\n",
    "# Alternatively, you could replace \"show\" with \"save\", which will save the file without opening it\n",
    "save(bokeh_plot)\n",
    "\n",
    "converged_tree_depth = model.tree_.max_depth"
   ]
  },
  {
   "cell_type": "code",
   "execution_count": null,
   "metadata": {
    "collapsed": false
   },
   "outputs": [],
   "source": [
    "print converged_tree_depth"
   ]
  },
  {
   "cell_type": "code",
   "execution_count": null,
   "metadata": {
    "collapsed": false
   },
   "outputs": [],
   "source": [
    "# Specify depth of decision tree\n",
    "tree_depth = 3\n",
    "    \n",
    "# Train the model\n",
    "model = tree.DecisionTreeClassifier(max_depth = tree_depth)\n",
    "model.fit(trainingData, trainingLabels)\n",
    "\n",
    "# Create tree visualization in dot format (via GraphViz)\n",
    "dot_data = tree.export_graphviz(model, \n",
    "                     out_file = None,\n",
    "                     feature_names=iris.feature_names,  \n",
    "                     class_names=iris.target_names,  \n",
    "                     filled=True, rounded=True,  \n",
    "                     special_characters=True)  \n",
    "\n",
    "graph = pydotplus.graph_from_dot_data(dot_data)\n",
    "graph.write('decision-tree-example.png', format = 'png')\n",
    "\n",
    "# Display graph (optional)\n",
    "Image('decision-tree-example.png')"
   ]
  },
  {
   "cell_type": "code",
   "execution_count": null,
   "metadata": {
    "collapsed": true
   },
   "outputs": [],
   "source": [
    "# Plot empty accuracy chart for decision tree of depth 0\n",
    "\n",
    "# Specify output html file \n",
    "output_file(\"accuracy-0.html\")\n",
    "\n",
    "bokeh_plot = figure(plot_width=500,\n",
    "                    plot_height=500,\n",
    "                    x_range = Range1d(0, 13, bounds = (0, 13)),\n",
    "                    y_range = Range1d(-0.04, 1.04, bounds = (-0.04, 1.04))\n",
    "                    )\n",
    "\n",
    "bokeh_plot.line([-1, 13], \n",
    "                [accuracies[11] + .005, accuracies[11] + .005], \n",
    "                line_width = 1,\n",
    "                line_color = 'red',\n",
    "                legend = 'limit'\n",
    "              )\n",
    "\n",
    "bokeh_plot.line([(j+1) for j in range(i)], \n",
    "                [accuracies[j] for j in range(i)],\n",
    "                line_width=1)\n",
    "\n",
    "bokeh_plot.xaxis.axis_label = \"Tree Depth\"\n",
    "bokeh_plot.xaxis[0].ticker=FixedTicker(ticks=[(i+1) for i in range(converged_tree_depth)])\n",
    "bokeh_plot.yaxis.axis_label = \"Accuracy\"\n",
    "bokeh_plot.legend.location = \"bottom_left\"\n",
    "\n",
    "save(bokeh_plot)"
   ]
  },
  {
   "cell_type": "code",
   "execution_count": null,
   "metadata": {
    "collapsed": false
   },
   "outputs": [],
   "source": [
    "# Plot accuracies for all decision trees calculated up to this point\n",
    "for i in range(1, 13):\n",
    "    \n",
    "    # Specify output html file \n",
    "    output_file(\"accuracy-%d.html\" %i)\n",
    "\n",
    "    bokeh_plot = figure(plot_width=500,\n",
    "                        plot_height=500,\n",
    "                        x_range = Range1d(0, 13, bounds = (0, 13)),\n",
    "                        y_range = Range1d(-0.04, 1.04, bounds = (-0.04, 1.04))\n",
    "                        )\n",
    "\n",
    "    bokeh_plot.line([-1, 13], \n",
    "                    [accuracies[11] + .005, accuracies[11] + .005], \n",
    "                    line_width = 1,\n",
    "                    line_color = 'red',\n",
    "                    legend = 'limit'\n",
    "                  )\n",
    "        \n",
    "    bokeh_plot.circle([(j+1) for j in range(i)], \n",
    "                      [accuracies[j] for j in range(i)],\n",
    "                      size = 4\n",
    "                     )\n",
    "\n",
    "    bokeh_plot.line([(j+1) for j in range(i)], \n",
    "                    [accuracies[j] for j in range(i)],\n",
    "                    line_width=1)\n",
    "    \n",
    "    bokeh_plot.xaxis.axis_label = \"Tree Depth\"\n",
    "    bokeh_plot.xaxis[0].ticker=FixedTicker(ticks=[(i+1) for i in range(converged_tree_depth)])\n",
    "    bokeh_plot.yaxis.axis_label = \"Accuracy\"\n",
    "    bokeh_plot.legend.location = \"bottom_left\"\n",
    "    \n",
    "    save(bokeh_plot)"
   ]
  },
  {
   "cell_type": "code",
   "execution_count": null,
   "metadata": {
    "collapsed": true
   },
   "outputs": [],
   "source": []
  }
 ],
 "metadata": {
  "anaconda-cloud": {},
  "kernelspec": {
   "display_name": "Python [conda root]",
   "language": "python",
   "name": "conda-root-py"
  },
  "language_info": {
   "codemirror_mode": {
    "name": "ipython",
    "version": 2
   },
   "file_extension": ".py",
   "mimetype": "text/x-python",
   "name": "python",
   "nbconvert_exporter": "python",
   "pygments_lexer": "ipython2",
   "version": "2.7.12"
  }
 },
 "nbformat": 4,
 "nbformat_minor": 1
}
