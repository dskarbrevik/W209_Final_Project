{
 "cells": [
  {
   "cell_type": "code",
   "execution_count": 1,
   "metadata": {
    "collapsed": false
   },
   "outputs": [],
   "source": [
    "%matplotlib inline\n",
    "# Import bokeh packages\n",
    "from bokeh.layouts import column\n",
    "from bokeh.models import CategoricalColorMapper, ColumnDataSource, CustomJS, Legend, Range, Range1d, Slider\n",
    "from bokeh.palettes import Category20\n",
    "from bokeh.plotting import figure, output_file, save, show\n",
    "\n",
    "# Import python packages\n",
    "from IPython.display import Image\n",
    "#import graphviz\n",
    "import numpy as np\n",
    "#import pydotplus \n",
    "from sklearn import tree\n",
    "from sklearn.datasets import load_iris\n",
    "from sklearn.decomposition import PCA\n",
    "import matplotlib.pyplot as plt\n",
    "from mpl_toolkits.mplot3d import Axes3D\n",
    "from sklearn.cluster import KMeans"
   ]
  },
  {
   "cell_type": "code",
   "execution_count": 2,
   "metadata": {
    "collapsed": true
   },
   "outputs": [],
   "source": [
    "# Load iris data\n",
    "iris = load_iris()\n",
    "trainingData = iris.data\n",
    "featureNames = iris.feature_names\n",
    "trainingLabels = iris.target\n",
    "labelNames = iris.target_names\n",
    "\n",
    "# Bucket the training data points by training label (i.e. setosa, versicolor or virginica)\n",
    "# This will make it easier to generate a legend for the plot\n",
    "label_0 = []\n",
    "label_1 = []\n",
    "label_2 = []\n",
    "for i in range(len(trainingLabels)):\n",
    "    if trainingLabels[i] == 0:\n",
    "        label_0.append(i)\n",
    "    elif trainingLabels[i] == 1:\n",
    "        label_1.append(i)\n",
    "    else:\n",
    "        label_2.append(i)"
   ]
  },
  {
   "cell_type": "code",
   "execution_count": 3,
   "metadata": {
    "collapsed": false
   },
   "outputs": [
    {
     "name": "stdout",
     "output_type": "stream",
     "text": [
      "Changed\n"
     ]
    }
   ],
   "source": [
    "# Specify output html file \n",
    "#output_file(\"kmeans_model.html\")\n",
    "\n",
    "pca = PCA(n_components=2)\n",
    "trainingData = pca.fit_transform(trainingData)\n",
    "np.random.seed(1)\n",
    "model = KMeans(n_clusters=3, n_init=1,init='random')\n",
    "model.fit(trainingData)\n",
    "labels = model.labels_\n",
    "\n",
    "    \n",
    "# Determine the limits of the plot\n",
    "x_min = min([dataPoint[0] for dataPoint in trainingData]) - 1\n",
    "x_max = max([dataPoint[0] for dataPoint in trainingData]) + 1\n",
    "x_range = Range1d(x_min, x_max, bounds = (x_min, x_max))\n",
    "\n",
    "y_min = min([dataPoint[1] for dataPoint in trainingData]) - 1\n",
    "y_max = max([dataPoint[1] for dataPoint in trainingData]) + 1\n",
    "y_range = Range1d(y_min, y_max, bounds = (y_min, y_max))\n",
    "\n",
    "# Create a mesh grid based on the plot limits, then classify the mesh using the trained model\n",
    "xx, yy = np.meshgrid(np.arange(x_min, x_max, 0.2), np.arange(y_min, y_max, 0.1))\n",
    "z = model.predict(np.c_[xx.ravel(), yy.ravel()])\n",
    "zz = z.reshape(xx.shape)\n",
    "print \"Changed\"\n",
    "# Create bokeh figure\n",
    "bokeh_plot = figure(plot_width=500,\n",
    "                    plot_height=500,\n",
    "                    x_range = x_range,\n",
    "                    y_range = y_range,\n",
    "                    )\n",
    "\n",
    "# Define color palettes for plots (light for decision surfaces, dark for data points)\n",
    "light_palette = [Category20[6][2*i + 1] for i in range(3)]\n",
    "dark_palette = [Category20[6][2*i] for i in range(3)]\n",
    "\n",
    "# Plot the mesh grid on the bokeh figure as an image\n",
    "# Note: \"Z\" here is the mesh grid predictions, and it must be contained in a list (i.e. \"[Z]\" not \"Z\")\n",
    "bokeh_plot.image(image=[zz],\n",
    "                 alpha = 0,\n",
    "                 x=x_min,           \n",
    "                 y=y_min,\n",
    "                 dw=(x_max-x_min),\n",
    "                 dh=(y_max-y_min),\n",
    "                 palette = light_palette\n",
    "                )\n",
    "\n",
    "\n",
    "\n",
    "# Bucket the training data points by training label (i.e. setosa, versicolor or virginica)\n",
    "# This will make it easier to generate a legend for the plot\n",
    "\n",
    "label_0 = []\n",
    "label_1 = []\n",
    "label_2 = []\n",
    "for i in range(len(labels)):\n",
    "    if labels[i] == 0:\n",
    "        label_0.append(i)\n",
    "    elif labels[i] == 1:\n",
    "        label_1.append(i)\n",
    "    else:\n",
    "        label_2.append(i)\n",
    "        \n",
    "# Plot data points in the label_0 bucket\n",
    "bokeh_plot.circle([trainingData[i][0] for i in label_0], \n",
    "                  [trainingData[i][1] for i in label_0],\n",
    "                  size = 4,\n",
    "                  fill_color = dark_palette[0],\n",
    "                  line_color = dark_palette[0],\n",
    "                  legend = \"Cluster One\"\n",
    "                 )\n",
    "\n",
    "# Plot data points in the label_1 bucket\n",
    "bokeh_plot.circle([trainingData[i][0] for i in label_1], \n",
    "                  [trainingData[i][1] for i in label_1],\n",
    "                  size = 4,\n",
    "                  fill_color = dark_palette[1],\n",
    "                  line_color = dark_palette[1],\n",
    "                  legend = \"Cluster Two\"\n",
    "                 )\n",
    "\n",
    "# Plot data points in the label_2 bucket\n",
    "bokeh_plot.circle([trainingData[i][0] for i in label_2], \n",
    "                  [trainingData[i][1] for i in label_2],\n",
    "                  size = 4,\n",
    "                  fill_color = dark_palette[2],\n",
    "                  line_color = dark_palette[2],\n",
    "                  legend = \"Cluster Three\"\n",
    "                 )\n",
    "\n",
    "\n",
    "# Label axes, place legend\n",
    "#bokeh_plot.xaxis.axis_label = featureNames[0]\n",
    "#bokeh_plot.yaxis.axis_label = featureNames[1]\n",
    "bokeh_plot.legend.location = \"bottom_left\"\n",
    "\n",
    "# Show the resulting bokeh plot (this will save the html file and open it automatically)\n",
    "# Alternatively, you could replace \"show\" with \"save\", which will save the file without opening it\n",
    "show(bokeh_plot)"
   ]
  },
  {
   "cell_type": "code",
   "execution_count": null,
   "metadata": {
    "collapsed": true
   },
   "outputs": [],
   "source": [
    "'''\n",
    "random_seed = Slider(title=\"RandomSeed\", value=1.0, start=0, end=10)\n",
    "#freq = Slider(title=\"frequency\", value=1.0, start=0.1, end=5.1)\n",
    "\n",
    "# Set up callbacks\n",
    "def update(attrname, old, new):\n",
    "    # Get the current slider values\n",
    "    seed = random_seed.value\n",
    "    \n",
    "    # Update the data for the new curve\n",
    "    source.data = dict(x=x, y=a*sin(k*x))\n",
    "\n",
    "amplitude.on_change('value', update)\n",
    "freq.on_change('value', update)\n",
    "\n",
    "# Set up layout and add to document\n",
    "inputs = widgetbox(amplitude, freq)\n",
    "curdoc().add_root(row(inputs, plot, width=1200))\n",
    "'''\n"
   ]
  },
  {
   "cell_type": "code",
   "execution_count": 9,
   "metadata": {
    "collapsed": false
   },
   "outputs": [
    {
     "name": "stderr",
     "output_type": "stream",
     "text": [
      "INFO:bokeh.core.state:Session output file 'load_data_buttons.html' already exists, will be overwritten.\n",
      "/Users/sarahkelley/anaconda/envs/tensorflow/lib/python2.7/site-packages/bokeh/util/deprecation.py:34: BokehDeprecationWarning: bokeh.io.vplot() was deprecated in Bokeh 0.12.0 and will be removed, use bokeh.models.layouts.Column instead.\n",
      "  warn(message)\n"
     ]
    }
   ],
   "source": [
    "from bokeh.io import vplot\n",
    "import pandas as pd\n",
    "from bokeh.models import CustomJS, ColumnDataSource\n",
    "from bokeh.models.widgets import Button\n",
    "from bokeh.plotting import figure, output_file, show\n",
    "\n",
    "output_file(\"load_data_buttons.html\")\n",
    "\n",
    "#df1 = pd.read_csv(\"data_file_1.txt\")\n",
    "#df2 = pd.read_csv(\"data_file_2.txt\")\n",
    "\n",
    "plot = figure(plot_width=400, plot_height=400)\n",
    "\n",
    "source = ColumnDataSource(data=dict(x=[0, 1], y=[0, 1]))\n",
    "source2 = ColumnDataSource(data=dict(x=[1,2], y = [5,3]))\n",
    "\n",
    "plot.line('x', 'y', source=source, line_width=3, line_alpha=0.6)\n",
    "\n",
    "callback = CustomJS(args=dict(source=source, source2=source2), code=\"\"\"\n",
    "        var data = source.get('data');\n",
    "        var data2 = source2.get('data');\n",
    "        data['x'] = data2['x' + cb_obj.get(\"name\")];\n",
    "        data['y'] = data2['y' + cb_obj.get(\"name\")];\n",
    "        source.trigger('change');\n",
    "    \"\"\")\n",
    "\n",
    "toggle1 = Button(label=\"Load data file 1\", callback=callback, name=\"1\")\n",
    "toggle2 = Button(label=\"Load data file 2\", callback=callback, name=\"2\")\n",
    "\n",
    "layout = vplot(toggle1, toggle2, plot)\n",
    "\n",
    "show(layout)"
   ]
  },
  {
   "cell_type": "code",
   "execution_count": null,
   "metadata": {
    "collapsed": true
   },
   "outputs": [],
   "source": []
  },
  {
   "cell_type": "code",
   "execution_count": null,
   "metadata": {
    "collapsed": true
   },
   "outputs": [],
   "source": []
  },
  {
   "cell_type": "code",
   "execution_count": null,
   "metadata": {
    "collapsed": true
   },
   "outputs": [],
   "source": []
  },
  {
   "cell_type": "code",
   "execution_count": null,
   "metadata": {
    "collapsed": true
   },
   "outputs": [],
   "source": []
  }
 ],
 "metadata": {
  "kernelspec": {
   "display_name": "Python (tensorflow)",
   "language": "python",
   "name": "tensorflow"
  },
  "language_info": {
   "codemirror_mode": {
    "name": "ipython",
    "version": 2
   },
   "file_extension": ".py",
   "mimetype": "text/x-python",
   "name": "python",
   "nbconvert_exporter": "python",
   "pygments_lexer": "ipython2",
   "version": "2.7.13"
  }
 },
 "nbformat": 4,
 "nbformat_minor": 0
}
